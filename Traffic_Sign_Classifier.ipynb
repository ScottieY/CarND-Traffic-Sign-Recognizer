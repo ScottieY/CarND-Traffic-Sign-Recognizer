{
 "cells": [
  {
   "cell_type": "markdown",
   "metadata": {},
   "source": [
    "# Self-Driving Car Engineer Nanodegree\n",
    "\n",
    "## Deep Learning\n",
    "\n",
    "## Project: Build a Traffic Sign Recognition Classifier\n",
    "\n",
    "In this notebook, a template is provided for you to implement your functionality in stages, which is required to successfully complete this project. If additional code is required that cannot be included in the notebook, be sure that the Python code is successfully imported and included in your submission if necessary. \n",
    "\n",
    "> **Note**: Once you have completed all of the code implementations, you need to finalize your work by exporting the iPython Notebook as an HTML document. Before exporting the notebook to html, all of the code cells need to have been run so that reviewers can see the final implementation and output. You can then export the notebook by using the menu above and navigating to  \\n\",\n",
    "    \"**File -> Download as -> HTML (.html)**. Include the finished document along with this notebook as your submission. \n",
    "\n",
    "In addition to implementing code, there is a writeup to complete. The writeup should be completed in a separate file, which can be either a markdown file or a pdf document. There is a [write up template](https://github.com/udacity/CarND-Traffic-Sign-Classifier-Project/blob/master/writeup_template.md) that can be used to guide the writing process. Completing the code template and writeup template will cover all of the [rubric points](https://review.udacity.com/#!/rubrics/481/view) for this project.\n",
    "\n",
    "The [rubric](https://review.udacity.com/#!/rubrics/481/view) contains \"Stand Out Suggestions\" for enhancing the project beyond the minimum requirements. The stand out suggestions are optional. If you decide to pursue the \"stand out suggestions\", you can include the code in this Ipython notebook and also discuss the results in the writeup file.\n",
    "\n",
    "\n",
    ">**Note:** Code and Markdown cells can be executed using the **Shift + Enter** keyboard shortcut. In addition, Markdown cells can be edited by typically double-clicking the cell to enter edit mode."
   ]
  },
  {
   "cell_type": "markdown",
   "metadata": {},
   "source": [
    "---\n",
    "## Step 0: Load The Data"
   ]
  },
  {
   "cell_type": "code",
   "execution_count": 1,
   "metadata": {
    "collapsed": false
   },
   "outputs": [
    {
     "name": "stdout",
     "output_type": "stream",
     "text": [
      "Finish loading.\n",
      "Training data : 34799\n",
      "Validation data : 4410\n",
      "Testing data : 12630\n"
     ]
    }
   ],
   "source": [
    "# Load pickled data\n",
    "import pickle\n",
    "import numpy as np\n",
    "# TODO: Fill this in based on where you saved the training and testing data\n",
    "\n",
    "training_file = './traffic-signs-data/train.p'\n",
    "validation_file='./traffic-signs-data/valid.p'\n",
    "testing_file = './traffic-signs-data/test.p'\n",
    "\n",
    "with open(training_file, mode='rb') as f:\n",
    "    train = pickle.load(f)\n",
    "with open(validation_file, mode='rb') as f:\n",
    "    valid = pickle.load(f)\n",
    "with open(testing_file, mode='rb') as f:\n",
    "    test = pickle.load(f)\n",
    "    \n",
    "X_train, y_train = train['features'], train['labels']\n",
    "X_valid, y_valid = valid['features'], valid['labels']\n",
    "X_test, y_test = test['features'], test['labels']\n",
    "\n",
    "assert len(X_train) == len(y_train)\n",
    "assert len(X_valid) == len(y_valid)\n",
    "assert len(X_test) == len(y_test)\n",
    "print(\"Finish loading.\")\n",
    "print(\"Training data : %d\" %len(X_train))\n",
    "print(\"Validation data : %d\" %len(X_valid))\n",
    "print(\"Testing data : %d\" %len(X_test))"
   ]
  },
  {
   "cell_type": "markdown",
   "metadata": {},
   "source": [
    "---\n",
    "\n",
    "## Step 1: Dataset Summary & Exploration\n",
    "\n",
    "The pickled data is a dictionary with 4 key/value pairs:\n",
    "\n",
    "- `'features'` is a 4D array containing raw pixel data of the traffic sign images, (num examples, width, height, channels).\n",
    "- `'labels'` is a 1D array containing the label/class id of the traffic sign. The file `signnames.csv` contains id -> name mappings for each id.\n",
    "- `'sizes'` is a list containing tuples, (width, height) representing the original width and height the image.\n",
    "- `'coords'` is a list containing tuples, (x1, y1, x2, y2) representing coordinates of a bounding box around the sign in the image. **THESE COORDINATES ASSUME THE ORIGINAL IMAGE. THE PICKLED DATA CONTAINS RESIZED VERSIONS (32 by 32) OF THESE IMAGES**\n",
    "\n",
    "Complete the basic data summary below. Use python, numpy and/or pandas methods to calculate the data summary rather than hard coding the results. For example, the [pandas shape method](http://pandas.pydata.org/pandas-docs/stable/generated/pandas.DataFrame.shape.html) might be useful for calculating some of the summary results. "
   ]
  },
  {
   "cell_type": "markdown",
   "metadata": {},
   "source": [
    "### Provide a Basic Summary of the Data Set Using Python, Numpy and/or Pandas"
   ]
  },
  {
   "cell_type": "code",
   "execution_count": 2,
   "metadata": {
    "collapsed": false
   },
   "outputs": [
    {
     "name": "stdout",
     "output_type": "stream",
     "text": [
      "Number of training examples = 34799\n",
      "Number of testing examples = 12630\n",
      "Image data shape = [32, 32]\n",
      "Number of classes = 43\n"
     ]
    }
   ],
   "source": [
    "### Replace each question mark with the appropriate value. \n",
    "### Use python, pandas or numpy methods rather than hard coding the results\n",
    "labels = ['Speed limit (20km/h)', 'Speed limit (30km/h)', 'Speed limit (50km/h)', 'Speed limit (60km/h)', \n",
    "          'Speed limit (70km/h)', 'Speed limit (80km/h)', 'End of speed limit (80km/h)', 'Speed limit (100km/h)', \n",
    "          'Speed limit (120km/h)', 'No passing', 'No passing for vechiles over 3.5 metric tons', \n",
    "          'Right-of-way at the next intersection', 'Priority road', 'Yield', 'Stop', 'No vechiles', \n",
    "          'Vechiles over 3.5 metric tons prohibited', 'No entry', 'General caution', 'Dangerous curve to the left', \n",
    "          'Dangerous curve to the right', 'Double curve', 'Bumpy road', 'Slippery road', 'Road narrows on the right', \n",
    "          'Road work', 'Traffic signals', 'Pedestrians', 'Children crossing', 'Bicycles crossing', \n",
    "          'Beware of ice/snow', 'Wild animals crossing', 'End of all speed and passing limits', 'Turn right ahead', \n",
    "          'Turn left ahead', 'Ahead only', 'Go straight or right', 'Go straight or left', 'Keep right', 'Keep left', \n",
    "          'Roundabout mandatory', 'End of no passing', 'End of no passing by vechiles over 3.5 metric tons']\n",
    "\n",
    "# TODO: Number of training examples\n",
    "n_train = len(X_train)\n",
    "\n",
    "# TODO: Number of testing examples.\n",
    "n_test = len(X_test)\n",
    "\n",
    "# TODO: What's the shape of an traffic sign image?\n",
    "image_shape = [32,32]\n",
    "\n",
    "# TODO: How many unique classes/labels there are in the dataset.\n",
    "n_classes = 43\n",
    "\n",
    "print(\"Number of training examples =\", n_train)\n",
    "print(\"Number of testing examples =\", n_test)\n",
    "print(\"Image data shape =\", image_shape)\n",
    "print(\"Number of classes =\", n_classes)"
   ]
  },
  {
   "cell_type": "markdown",
   "metadata": {},
   "source": [
    "### Include an exploratory visualization of the dataset"
   ]
  },
  {
   "cell_type": "markdown",
   "metadata": {},
   "source": [
    "Visualize the German Traffic Signs Dataset using the pickled file(s). This is open ended, suggestions include: plotting traffic sign images, plotting the count of each sign, etc.\n",
    "\n",
    "The [Matplotlib](http://matplotlib.org/) [examples](http://matplotlib.org/examples/index.html) and [gallery](http://matplotlib.org/gallery.html) pages are a great resource for doing visualizations in Python.\n",
    "\n",
    "**NOTE:** It's recommended you start with something simple first. If you wish to do more, come back to it after you've completed the rest of the sections."
   ]
  },
  {
   "cell_type": "code",
   "execution_count": 3,
   "metadata": {
    "collapsed": false
   },
   "outputs": [
    {
     "name": "stdout",
     "output_type": "stream",
     "text": [
      "Data count\n"
     ]
    },
    {
     "data": {
      "text/plain": [
       "<Container object of 43 artists>"
      ]
     },
     "execution_count": 3,
     "metadata": {},
     "output_type": "execute_result"
    },
    {
     "data": {
      "image/png": "[encoded data removed]",
      "text/plain": [
       "<matplotlib.figure.Figure at 0x7f434c0cc6a0>"
      ]
     },
     "metadata": {},
     "output_type": "display_data"
    }
   ],
   "source": [
    "### Data exploration visualization code goes here.\n",
    "### Feel free to use as many code cells as needed.\n",
    "import random\n",
    "import matplotlib.pyplot as plt\n",
    "# Visualizations will be shown in the notebook.\n",
    "%matplotlib inline\n",
    "\n",
    "def rgb2gray(rgb):\n",
    "    return np.dot(rgb[...,:3], [0.299, 0.587, 0.114])\n",
    "\n",
    "counts = []\n",
    "for i in range(43):\n",
    "    counts.append(np.sum(y_train == i))\n",
    "\n",
    "print(\"Data count\")\n",
    "plt.bar(range(43),counts)\n",
    "\n"
   ]
  },
  {
   "cell_type": "code",
   "execution_count": 4,
   "metadata": {
    "collapsed": false
   },
   "outputs": [
    {
     "name": "stdout",
     "output_type": "stream",
     "text": [
      "Road work\n"
     ]
    },
    {
     "data": {
      "text/plain": [
       "<matplotlib.image.AxesImage at 0x7f4318799780>"
      ]
     },
     "execution_count": 4,
     "metadata": {},
     "output_type": "execute_result"
    },
    {
     "data": {
      "image/png": "[encoded data removed]",
      "text/plain": [
       "<matplotlib.figure.Figure at 0x7f434c0d5668>"
      ]
     },
     "metadata": {},
     "output_type": "display_data"
    },
    {
     "data": {
      "image/png": "[encoded data removed]",
      "text/plain": [
       "<matplotlib.figure.Figure at 0x7f431891e748>"
      ]
     },
     "metadata": {},
     "output_type": "display_data"
    }
   ],
   "source": [
    "index = random.randint(0,len(X_train))\n",
    "print(labels[y_train[index]])\n",
    "\n",
    "sample_image = X_train[index]\n",
    "plt.figure(figsize=(4,4))\n",
    "plt.imshow(sample_image)\n",
    "\n",
    "gray = rgb2gray(sample_image)\n",
    "plt.figure(figsize=(4,4))\n",
    "plt.imshow(gray)"
   ]
  },
  {
   "cell_type": "code",
   "execution_count": 5,
   "metadata": {
    "collapsed": false
   },
   "outputs": [],
   "source": [
    "def normalize(image_data):\n",
    "    # TODO: Implement Min-Max scaling for grayscale image data\n",
    "    image_data = image_data.astype(np.float32)\n",
    "\n",
    "    image_data = rgb2gray(image_data)\n",
    "    normalized = (image_data)/255.0 - 0.5\n",
    "    normalized = normalized.reshape((-1,32,32,1))\n",
    "    return normalized.astype(np.float32)\n",
    "\n",
    "X_train = normalize(X_train)\n",
    "\n",
    "X_valid = normalize(X_valid)\n",
    "\n",
    "X_test = normalize(X_test)\n"
   ]
  },
  {
   "cell_type": "markdown",
   "metadata": {},
   "source": [
    "----\n",
    "\n",
    "## Step 2: Design and Test a Model Architecture\n",
    "\n",
    "Design and implement a deep learning model that learns to recognize traffic signs. Train and test your model on the [German Traffic Sign Dataset](http://benchmark.ini.rub.de/?section=gtsrb&subsection=dataset).\n",
    "\n",
    "The LeNet-5 implementation shown in the [classroom](https://classroom.udacity.com/nanodegrees/nd013/parts/fbf77062-5703-404e-b60c-95b78b2f3f9e/modules/6df7ae49-c61c-4bb2-a23e-6527e69209ec/lessons/601ae704-1035-4287-8b11-e2c2716217ad/concepts/d4aca031-508f-4e0b-b493-e7b706120f81) at the end of the CNN lesson is a solid starting point. You'll have to change the number of classes and possibly the preprocessing, but aside from that it's plug and play! \n",
    "\n",
    "With the LeNet-5 solution from the lecture, you should expect a validation set accuracy of about 0.89. To meet specifications, the validation set accuracy will need to be at least 0.93. It is possible to get an even higher accuracy, but 0.93 is the minimum for a successful project submission. \n",
    "\n",
    "There are various aspects to consider when thinking about this problem:\n",
    "\n",
    "- Neural network architecture (is the network over or underfitting?)\n",
    "- Play around preprocessing techniques (normalization, rgb to grayscale, etc)\n",
    "- Number of examples per label (some have more than others).\n",
    "- Generate fake data.\n",
    "\n",
    "Here is an example of a [published baseline model on this problem](http://yann.lecun.com/exdb/publis/pdf/sermanet-ijcnn-11.pdf). It's not required to be familiar with the approach used in the paper but, it's good practice to try to read papers like these."
   ]
  },
  {
   "cell_type": "markdown",
   "metadata": {},
   "source": [
    "### Pre-process the Data Set (normalization, grayscale, etc.)"
   ]
  },
  {
   "cell_type": "markdown",
   "metadata": {},
   "source": [
    "Use the code cell (or multiple code cells, if necessary) to implement the first step of your project."
   ]
  },
  {
   "cell_type": "code",
   "execution_count": 6,
   "metadata": {
    "collapsed": false
   },
   "outputs": [],
   "source": [
    "### Preprocess the data here. Preprocessing steps could include normalization, converting to grayscale, etc.\n",
    "### Feel free to use as many code cells as needed.\n",
    "from sklearn.utils import shuffle\n",
    "import tensorflow as tf\n",
    "from tensorflow.contrib.layers import flatten"
   ]
  },
  {
   "cell_type": "markdown",
   "metadata": {},
   "source": [
    "### Model Architecture"
   ]
  },
  {
   "cell_type": "code",
   "execution_count": 7,
   "metadata": {
    "collapsed": true
   },
   "outputs": [],
   "source": [
    "### Define your architecture here.\n",
    "### Feel free to use as many code cells as needed.\n",
    "\n",
    "def conv2d(x,W,b,strides = 1):\n",
    "    x = tf.nn.conv2d(x,W,strides=[1,strides,strides,1],padding = 'SAME')\n",
    "    x = tf.nn.bias_add(x,b)\n",
    "    return tf.nn.relu(x)\n",
    "\n",
    "def max_pool(x,k=2):\n",
    "    return tf.nn.max_pool(x,ksize=[1,k,k,1],strides = [1,k,k,1],padding = 'SAME')\n",
    "\n",
    "def conv_net(x,weights,biases,dropout):\n",
    "    # Layer 1 - 32*32*1 to 16*16*6\n",
    "    layer = conv2d(x,weights['wc1'],biases['bc1'])\n",
    "    layer = max_pool(layer)\n",
    "    \n",
    "    #Layer 2 - 16 * 16 * 6 to 8 * 8 * 12\n",
    "    layer = conv2d(layer,weights['wc2'],biases['bc2'])\n",
    "    layer = max_pool(layer)\n",
    "    \n",
    "    #Fully connected 8*8*12 to 80\n",
    "    layer = tf.reshape(layer,[-1,8*8*12])\n",
    "    layer = tf.add(tf.matmul(layer,weights['wd1']),biases['bd1'])\n",
    "    layer = tf.nn.relu(layer)\n",
    "    layer = tf.nn.dropout(layer,dropout)\n",
    "    \n",
    "    #Fully connected 80 to 80\n",
    "    layer = tf.add(tf.matmul(layer,weights['wd2']),biases['bd2'])\n",
    "    layer = tf.nn.relu(layer)\n",
    "    layer = tf.nn.dropout(layer,dropout)\n",
    "    \n",
    "    out = tf.add(tf.matmul(layer,weights['out']),biases['out'])\n",
    "    return out\n",
    "\n"
   ]
  },
  {
   "cell_type": "markdown",
   "metadata": {},
   "source": [
    "### Train, Validate and Test the Model"
   ]
  },
  {
   "cell_type": "markdown",
   "metadata": {},
   "source": [
    "A validation set can be used to assess how well the model is performing. A low accuracy on the training and validation\n",
    "sets imply underfitting. A high accuracy on the training set but low accuracy on the validation set implies overfitting."
   ]
  },
  {
   "cell_type": "code",
   "execution_count": 8,
   "metadata": {
    "collapsed": false
   },
   "outputs": [
    {
     "name": "stdout",
     "output_type": "stream",
     "text": [
      "Training...\n",
      "\n",
      "Epoch  1 - Loss:     2.7224 Validation Accuracy: 0.265760 TA: 0.329722\n",
      "Epoch  2 - Loss:     1.4568 Validation Accuracy: 0.553288 TA: 0.637547\n",
      "Epoch  3 - Loss:     1.0284 Validation Accuracy: 0.707256 TA: 0.771172\n",
      "Epoch  4 - Loss:     0.7945 Validation Accuracy: 0.760317 TA: 0.822466\n",
      "Epoch  5 - Loss:     0.6848 Validation Accuracy: 0.785714 TA: 0.861490\n",
      "Epoch  6 - Loss:     0.6004 Validation Accuracy: 0.819274 TA: 0.892928\n",
      "Epoch  7 - Loss:     0.5248 Validation Accuracy: 0.838549 TA: 0.912842\n",
      "Epoch  8 - Loss:     0.4938 Validation Accuracy: 0.842630 TA: 0.923963\n",
      "Epoch  9 - Loss:     0.4539 Validation Accuracy: 0.867574 TA: 0.933849\n",
      "Epoch 10 - Loss:     0.4172 Validation Accuracy: 0.876190 TA: 0.945113\n",
      "Epoch 11 - Loss:     0.4041 Validation Accuracy: 0.880045 TA: 0.949022\n",
      "Epoch 12 - Loss:     0.3903 Validation Accuracy: 0.885261 TA: 0.957269\n",
      "Epoch 13 - Loss:     0.3865 Validation Accuracy: 0.884354 TA: 0.959798\n",
      "Epoch 14 - Loss:     0.3436 Validation Accuracy: 0.902268 TA: 0.966953\n",
      "Epoch 15 - Loss:     0.3381 Validation Accuracy: 0.904308 TA: 0.968907\n",
      "Epoch 16 - Loss:     0.3441 Validation Accuracy: 0.898413 TA: 0.971781\n",
      "Epoch 17 - Loss:     0.3248 Validation Accuracy: 0.899546 TA: 0.970258\n",
      "Epoch 18 - Loss:     0.3373 Validation Accuracy: 0.896372 TA: 0.970919\n",
      "Epoch 19 - Loss:     0.3212 Validation Accuracy: 0.904989 TA: 0.977327\n",
      "Epoch 20 - Loss:     0.2941 Validation Accuracy: 0.915193 TA: 0.980402\n",
      "Epoch 21 - Loss:     0.2983 Validation Accuracy: 0.914739 TA: 0.982068\n",
      "Epoch 22 - Loss:     0.3172 Validation Accuracy: 0.905215 TA: 0.980430\n",
      "Epoch 23 - Loss:     0.3164 Validation Accuracy: 0.904082 TA: 0.982528\n",
      "Epoch 24 - Loss:     0.2959 Validation Accuracy: 0.913152 TA: 0.982557\n",
      "Epoch 25 - Loss:     0.2829 Validation Accuracy: 0.917234 TA: 0.984252\n",
      "Epoch 26 - Loss:     0.2947 Validation Accuracy: 0.917687 TA: 0.985890\n",
      "Epoch 27 - Loss:     0.2767 Validation Accuracy: 0.921315 TA: 0.987442\n",
      "Epoch 28 - Loss:     0.2822 Validation Accuracy: 0.919048 TA: 0.988477\n",
      "Epoch 29 - Loss:     0.2685 Validation Accuracy: 0.921995 TA: 0.988735\n",
      "Epoch 30 - Loss:     0.2589 Validation Accuracy: 0.930159 TA: 0.989885\n",
      "Epoch 31 - Loss:     0.2678 Validation Accuracy: 0.928798 TA: 0.989942\n",
      "Epoch 32 - Loss:     0.2794 Validation Accuracy: 0.926531 TA: 0.990833\n",
      "Epoch 33 - Loss:     0.2838 Validation Accuracy: 0.927438 TA: 0.991120\n",
      "Epoch 34 - Loss:     0.2878 Validation Accuracy: 0.925624 TA: 0.990891\n",
      "Epoch 35 - Loss:     0.2793 Validation Accuracy: 0.924717 TA: 0.991178\n",
      "Epoch 36 - Loss:     0.2740 Validation Accuracy: 0.925170 TA: 0.992011\n",
      "Epoch 37 - Loss:     0.2740 Validation Accuracy: 0.933333 TA: 0.992931\n",
      "Epoch 38 - Loss:     0.2802 Validation Accuracy: 0.930839 TA: 0.993649\n",
      "Epoch 39 - Loss:     0.2908 Validation Accuracy: 0.927664 TA: 0.993189\n",
      "Epoch 40 - Loss:     0.2978 Validation Accuracy: 0.926531 TA: 0.993822\n",
      "Epoch 41 - Loss:     0.2826 Validation Accuracy: 0.926757 TA: 0.993994\n",
      "Epoch 42 - Loss:     0.2605 Validation Accuracy: 0.932200 TA: 0.994770\n",
      "Epoch 43 - Loss:     0.2800 Validation Accuracy: 0.929932 TA: 0.994253\n",
      "Epoch 44 - Loss:     0.2858 Validation Accuracy: 0.925624 TA: 0.993506\n",
      "Epoch 45 - Loss:     0.2912 Validation Accuracy: 0.930159 TA: 0.992902\n",
      "Epoch 46 - Loss:     0.2582 Validation Accuracy: 0.932653 TA: 0.995000\n",
      "Epoch 47 - Loss:     0.2765 Validation Accuracy: 0.931519 TA: 0.995632\n",
      "Epoch 48 - Loss:     0.2663 Validation Accuracy: 0.932426 TA: 0.995431\n",
      "Epoch 49 - Loss:     0.2733 Validation Accuracy: 0.929252 TA: 0.994885\n",
      "Epoch 50 - Loss:     0.2625 Validation Accuracy: 0.936735 TA: 0.995690\n",
      "Epoch 51 - Loss:     0.3078 Validation Accuracy: 0.929025 TA: 0.995661\n",
      "Epoch 52 - Loss:     0.2659 Validation Accuracy: 0.937415 TA: 0.996149\n",
      "Epoch 53 - Loss:     0.3037 Validation Accuracy: 0.932200 TA: 0.995690\n",
      "Epoch 54 - Loss:     0.2776 Validation Accuracy: 0.941270 TA: 0.996264\n",
      "Epoch 55 - Loss:     0.2847 Validation Accuracy: 0.931746 TA: 0.996178\n",
      "Epoch 56 - Loss:     0.2666 Validation Accuracy: 0.941723 TA: 0.997011\n",
      "Epoch 57 - Loss:     0.2565 Validation Accuracy: 0.942630 TA: 0.997040\n",
      "Epoch 58 - Loss:     0.2729 Validation Accuracy: 0.936508 TA: 0.996523\n",
      "Epoch 59 - Loss:     0.2821 Validation Accuracy: 0.934014 TA: 0.996925\n",
      "Epoch 60 - Loss:     0.2960 Validation Accuracy: 0.934467 TA: 0.996638\n",
      "Epoch 61 - Loss:     0.2784 Validation Accuracy: 0.938776 TA: 0.996638\n",
      "Epoch 62 - Loss:     0.3060 Validation Accuracy: 0.936281 TA: 0.997069\n",
      "Epoch 63 - Loss:     0.2915 Validation Accuracy: 0.939002 TA: 0.997184\n",
      "Epoch 64 - Loss:     0.2910 Validation Accuracy: 0.939002 TA: 0.997098\n",
      "Epoch 65 - Loss:     0.3142 Validation Accuracy: 0.931519 TA: 0.996925\n",
      "Epoch 66 - Loss:     0.3183 Validation Accuracy: 0.931293 TA: 0.997328\n",
      "Epoch 67 - Loss:     0.3230 Validation Accuracy: 0.933107 TA: 0.997442\n",
      "Epoch 68 - Loss:     0.3171 Validation Accuracy: 0.934694 TA: 0.997557\n",
      "Epoch 69 - Loss:     0.2979 Validation Accuracy: 0.940136 TA: 0.997931\n",
      "Epoch 70 - Loss:     0.3017 Validation Accuracy: 0.941497 TA: 0.998362\n",
      "Epoch 71 - Loss:     0.3139 Validation Accuracy: 0.937188 TA: 0.997787\n",
      "Epoch 72 - Loss:     0.3092 Validation Accuracy: 0.937415 TA: 0.997644\n",
      "Epoch 73 - Loss:     0.3111 Validation Accuracy: 0.938095 TA: 0.997988\n",
      "Epoch 74 - Loss:     0.3383 Validation Accuracy: 0.936961 TA: 0.998132\n",
      "Epoch 75 - Loss:     0.3170 Validation Accuracy: 0.934467 TA: 0.997874\n",
      "Epoch 76 - Loss:     0.3084 Validation Accuracy: 0.937642 TA: 0.997845\n",
      "Epoch 77 - Loss:     0.3524 Validation Accuracy: 0.931293 TA: 0.997500\n",
      "Epoch 78 - Loss:     0.3044 Validation Accuracy: 0.939909 TA: 0.997960\n",
      "Epoch 79 - Loss:     0.3068 Validation Accuracy: 0.943084 TA: 0.998391\n",
      "Epoch 80 - Loss:     0.3444 Validation Accuracy: 0.932426 TA: 0.998046\n",
      "Epoch 81 - Loss:     0.3674 Validation Accuracy: 0.928118 TA: 0.997098\n",
      "Epoch 82 - Loss:     0.3475 Validation Accuracy: 0.934240 TA: 0.998190\n",
      "Epoch 83 - Loss:     0.3519 Validation Accuracy: 0.933333 TA: 0.998621\n",
      "Epoch 84 - Loss:     0.2920 Validation Accuracy: 0.942177 TA: 0.998764\n",
      "Epoch 85 - Loss:     0.3285 Validation Accuracy: 0.938322 TA: 0.998621\n",
      "Epoch 86 - Loss:     0.3139 Validation Accuracy: 0.939456 TA: 0.998851\n",
      "Epoch 87 - Loss:     0.3735 Validation Accuracy: 0.934694 TA: 0.998362\n",
      "Epoch 88 - Loss:     0.3358 Validation Accuracy: 0.939683 TA: 0.998908\n",
      "Epoch 89 - Loss:     0.3395 Validation Accuracy: 0.937188 TA: 0.998879\n",
      "Epoch 90 - Loss:     0.3985 Validation Accuracy: 0.933333 TA: 0.997615\n",
      "Epoch 91 - Loss:     0.3370 Validation Accuracy: 0.937415 TA: 0.999080\n",
      "Epoch 92 - Loss:     0.3274 Validation Accuracy: 0.936508 TA: 0.998822\n",
      "Epoch 93 - Loss:     0.3327 Validation Accuracy: 0.944671 TA: 0.998736\n",
      "Epoch 94 - Loss:     0.3215 Validation Accuracy: 0.942857 TA: 0.998534\n",
      "Epoch 95 - Loss:     0.3435 Validation Accuracy: 0.941950 TA: 0.998851\n",
      "Epoch 96 - Loss:     0.3108 Validation Accuracy: 0.943537 TA: 0.998563\n",
      "Epoch 97 - Loss:     0.3326 Validation Accuracy: 0.941497 TA: 0.998793\n",
      "Epoch 98 - Loss:     0.3479 Validation Accuracy: 0.942404 TA: 0.999023\n",
      "Epoch 99 - Loss:     0.3685 Validation Accuracy: 0.942177 TA: 0.998908\n",
      "Epoch 100 - Loss:     0.3076 Validation Accuracy: 0.942857 TA: 0.998937\n",
      "Model saved\n"
     ]
    },
    {
     "data": {
      "image/png": "[encoded data removed]",
      "text/plain": [
       "<matplotlib.figure.Figure at 0x7f43187995c0>"
      ]
     },
     "metadata": {},
     "output_type": "display_data"
    }
   ],
   "source": [
    "### Train your model here.\n",
    "### Calculate and report the accuracy on the training and validation set.\n",
    "### Once a final model architecture is selected, \n",
    "### the accuracy on the test set should be calculated and reported as well.\n",
    "### Feel free to use as many code cells as needed.\n",
    "weights = {\n",
    "    'wc1': tf.Variable(tf.truncated_normal(shape = (5,5,1,6), mean = 0,stddev = 0.1)),\n",
    "    'wc2': tf.Variable(tf.truncated_normal(shape = (5,5,6,12), mean = 0,stddev = 0.1)),\n",
    "    'wd1': tf.Variable(tf.truncated_normal(shape = (8*8*12,120), mean = 0,stddev = 0.1)),\n",
    "    'wd2': tf.Variable(tf.truncated_normal(shape = (120,80), mean = 0,stddev = 0.1)),\n",
    "    'out': tf.Variable(tf.truncated_normal(shape = (80,n_classes), mean = 0,stddev = 0.1))\n",
    "}\n",
    "'''\n",
    "#Xavier-Glorot initialization\n",
    "weights = {\n",
    "    'wc1': tf.Variable(tf.random_uniform(shape = (5,5,1,6), minval= -2.45/np.sqrt(np.prod([5,5,1,6])), maxval=2.45/np.sqrt(np.prod([5,5,1,6])))),\n",
    "    'wc2': tf.Variable(tf.random_uniform(shape = (5,5,6,12), minval= -2.45/np.sqrt(np.prod([5,5,6,12])), maxval=2.45/np.sqrt(np.prod([5,5,6,12])))),\n",
    "    'wd1': tf.Variable(tf.random_uniform(shape = (8*8*12,80), minval= -2.45/np.sqrt(8*8*12*80), maxval=2.45/np.sqrt(8*8*12*80))),\n",
    "    'out': tf.Variable(tf.random_uniform(shape = (80,n_classes), minval= -2.45/np.sqrt(80 * n_classes), maxval=2.45/np.sqrt(80 *n_classes)))\n",
    "}\n",
    "'''\n",
    "\n",
    "'''\n",
    "biases = {\n",
    "    'bc1': tf.Variable(tf.random_normal([6])),\n",
    "    'bc2': tf.Variable(tf.random_normal([12])),\n",
    "    'bd1': tf.Variable(tf.random_normal([80])),\n",
    "    'out': tf.Variable(tf.random_normal([n_classes]))\n",
    "}\n",
    "biases = {\n",
    "    'bc1': tf.Variable(tf.random_uniform(shape = ([6]), minval= -2.45/np.sqrt(6), maxval=2.45/np.sqrt(6))),\n",
    "    'bc2': tf.Variable(tf.random_uniform(shape = ([12]), minval= -2.45/np.sqrt(12), maxval=2.45/np.sqrt(12))),\n",
    "    'bd1': tf.Variable(tf.random_uniform(shape = ([80]), minval= -2.45/np.sqrt(80), maxval=2.45/np.sqrt(80))),\n",
    "    'out': tf.Variable(tf.random_uniform(shape = ([n_classes]), minval= -2.45/np.sqrt(n_classes), maxval=2.45/np.sqrt(n_classes)))\n",
    "}\n",
    "'''\n",
    "biases = {\n",
    "    'bc1': tf.Variable(tf.truncated_normal(shape = ([6]), mean = 0,stddev = 0.1)),\n",
    "    'bc2': tf.Variable(tf.truncated_normal(shape = ([12]), mean = 0,stddev = 0.1)),\n",
    "    'bd1': tf.Variable(tf.truncated_normal(shape = ([120]), mean = 0,stddev = 0.1)),\n",
    "    'bd2': tf.Variable(tf.truncated_normal(shape = ([80]), mean = 0,stddev = 0.1)),\n",
    "    'out': tf.Variable(tf.truncated_normal(shape = ([n_classes]), mean = 0,stddev = 0.1))\n",
    "}\n",
    "\n",
    "rate = 0.0008\n",
    "EPOCHS = 100\n",
    "BATCH_SIZE = 128\n",
    "dropout = 0.5\n",
    "\n",
    "x = tf.placeholder(tf.float32, [None,32,32,1])\n",
    "y = tf.placeholder(tf.int32, (None))\n",
    "one_hot_y = tf.one_hot(y, n_classes)\n",
    "keep_prob = tf.placeholder(tf.float32)\n",
    "\n",
    "\n",
    "logits = conv_net(x,weights,biases,keep_prob)\n",
    "cost = tf.reduce_mean(tf.nn.softmax_cross_entropy_with_logits(logits=logits,labels=one_hot_y))\n",
    "optimizer = tf.train.AdamOptimizer(learning_rate = rate).minimize(cost)\n",
    "\n",
    "correct_pred = tf.equal(tf.argmax(logits,1),tf.argmax(one_hot_y,1))\n",
    "accuracy_operation = tf.reduce_mean(tf.cast(correct_pred,tf.float32))\n",
    "\n",
    "def evaluate(X_data, y_data):\n",
    "    num_examples = len(X_data)\n",
    "    total_accuracy = 0\n",
    "    total_loss = 0\n",
    "\n",
    "    sess = tf.get_default_session()\n",
    "    for offset in range(0, num_examples, BATCH_SIZE):\n",
    "        batch_x, batch_y = X_data[offset:offset+BATCH_SIZE], y_data[offset:offset+BATCH_SIZE]\n",
    "        loss,accuracy = sess.run([cost,accuracy_operation], feed_dict={x: batch_x, y: batch_y,keep_prob:1.})\n",
    "        total_loss += (loss * len(batch_x))\n",
    "        total_accuracy += (accuracy * len(batch_x))\n",
    "    return total_loss / num_examples,total_accuracy / num_examples\n",
    "\n",
    "saver = tf.train.Saver()\n",
    "\n",
    "with tf.Session() as sess:\n",
    "    sess.run(tf.global_variables_initializer())\n",
    "    num_examples = len(X_train)\n",
    "    \n",
    "    print(\"Training...\")\n",
    "    print()\n",
    "    training_loss_history = []\n",
    "    validation_loss_history = []\n",
    "    training_accuracy_history = []\n",
    "    validation_accuracy_history = []\n",
    "    for i in range(EPOCHS):\n",
    "        X_train, y_train = shuffle(X_train, y_train)\n",
    "        for offset in range(0, num_examples, BATCH_SIZE):\n",
    "            end = offset + BATCH_SIZE\n",
    "            batch_x, batch_y = X_train[offset:end], y_train[offset:end]\n",
    "            sess.run(optimizer, feed_dict={x: batch_x, y: batch_y,keep_prob:dropout})\n",
    "            #loss = sess.run(cost,feed_dict={x: batch_x, y: batch_y,keep_prob:1.})\n",
    "        \n",
    "        \n",
    "        training_loss,training_accuracy = evaluate(X_train,y_train)\n",
    "        training_loss_history.append(training_loss)\n",
    "        training_accuracy_history.append(training_accuracy)\n",
    "        \n",
    "        validation_loss,validation_accuracy = evaluate(X_valid,y_valid)\n",
    "        validation_loss_history.append(validation_loss)\n",
    "        validation_accuracy_history.append(validation_accuracy)\n",
    "\n",
    "        #print(\"Epoch {:>2}, Validation_accuracy: {:.6f}\".format(i+1,validation_accuracy))\n",
    "        \n",
    "        print('Epoch {:>2} - Loss: {:>10.4f} Validation Accuracy: {:.6f} TA: {:.6f}'.format(\n",
    "            i + 1,\n",
    "            validation_loss,\n",
    "            validation_accuracy,training_accuracy))\n",
    "        \n",
    "    saver.save(sess, './lenet')\n",
    "    print(\"Model saved\")\n",
    "    loss_plot = plt.subplot(2,1,1)\n",
    "    loss_plot.set_title('Loss')\n",
    "    loss_plot.plot(training_loss_history, 'r', label='Training Loss')\n",
    "    loss_plot.plot(validation_loss_history, 'b', label='Validation Loss')\n",
    "    loss_plot.set_xlim([0, EPOCHS])\n",
    "    loss_plot.legend(loc=4)\n",
    "    acc_plot = plt.subplot(2,1,2)\n",
    "    acc_plot.set_title('Accuracy')\n",
    "    acc_plot.plot(training_accuracy_history,'r', label='Training Accuracy')\n",
    "    acc_plot.plot(validation_accuracy_history, 'b', label='Validation Accuracy')\n",
    "    acc_plot.set_ylim([0, 1.0])\n",
    "    acc_plot.set_xlim([0, EPOCHS])\n",
    "    acc_plot.legend(loc=4)\n",
    "    plt.tight_layout()\n",
    "    plt.show()\n",
    "            "
   ]
  },
  {
   "cell_type": "code",
   "execution_count": 9,
   "metadata": {
    "collapsed": false
   },
   "outputs": [
    {
     "name": "stdout",
     "output_type": "stream",
     "text": [
      "Test_loss: 0.517687,Test_accuracy: 0.927553\n"
     ]
    }
   ],
   "source": [
    "##test set\n",
    "with tf.Session() as sess:\n",
    "    saver.restore(sess, './lenet')\n",
    "    test_loss,test_accuracy = evaluate(X_test,y_test)\n",
    "    print(\"Test_loss: {:.6f},Test_accuracy: {:.6f}\".format(test_loss,test_accuracy))"
   ]
  },
  {
   "cell_type": "markdown",
   "metadata": {},
   "source": [
    "---\n",
    "\n",
    "## Step 3: Test a Model on New Images\n",
    "\n",
    "To give yourself more insight into how your model is working, download at least five pictures of German traffic signs from the web and use your model to predict the traffic sign type.\n",
    "\n",
    "You may find `signnames.csv` useful as it contains mappings from the class id (integer) to the actual sign name."
   ]
  },
  {
   "cell_type": "markdown",
   "metadata": {},
   "source": [
    "### Load and Output the Images"
   ]
  },
  {
   "cell_type": "code",
   "execution_count": 10,
   "metadata": {
    "collapsed": false
   },
   "outputs": [
    {
     "data": {
      "image/png": "[encoded data removed]",
      "text/plain": [
       "<matplotlib.figure.Figure at 0x7f430cf6f898>"
      ]
     },
     "metadata": {},
     "output_type": "display_data"
    }
   ],
   "source": [
    "### Load the images and plot them here.\n",
    "### Feel free to use as many code cells as needed.\n",
    "import matplotlib.image as mpimg\n",
    "\n",
    "plt.rcParams['figure.figsize'] = (8, 10)\n",
    "\n",
    "directory = 'test/conv/'\n",
    "\n",
    "image_names = ['t1.jpg','t2.jpg', 't3.jpg', 't4.jpg','t5.jpg']\n",
    "\n",
    "test_images = np.zeros((5,32,32,3), dtype=np.uint8)\n",
    "test_labels = [24,14,13,1,40]\n",
    "for i in range(5):\n",
    "    image = mpimg.imread(directory + image_names[i])\n",
    "    test_images[i] = image\n",
    "    plt.subplot(5, 1, i+1)\n",
    "    plt.imshow(image)\n",
    "    plt.axis('off')\n",
    "    \n",
    "test_images = test_images.astype(np.float32)\n",
    "test_images = normalize(test_images)\n"
   ]
  },
  {
   "cell_type": "markdown",
   "metadata": {},
   "source": [
    "### Predict the Sign Type for Each Image"
   ]
  },
  {
   "cell_type": "code",
   "execution_count": 11,
   "metadata": {
    "collapsed": false
   },
   "outputs": [
    {
     "data": {
      "image/png": "[encoded data removed]",
      "text/plain": [
       "<matplotlib.figure.Figure at 0x7f430cc02940>"
      ]
     },
     "metadata": {},
     "output_type": "display_data"
    }
   ],
   "source": [
    "### Run the predictions here and use the model to output the prediction for each image.\n",
    "### Make sure to pre-process the images with the same pre-processing pipeline used earlier.\n",
    "### Feel free to use as many code cells as needed.\n",
    "\n",
    "predicted_labels = []\n",
    "predicted_labels = []\n",
    "with tf.Session() as sess:\n",
    "    saver.restore(sess, './lenet')\n",
    "    predicted_logits = sess.run(logits, feed_dict={x:test_images, keep_prob:1})\n",
    "    predicted_labels = np.argmax(predicted_logits, axis=1)\n",
    "    \n",
    "    for i in range(5):\n",
    "        image = mpimg.imread(directory + image_names[i])\n",
    "        plt.subplot(5, 1, i+1)\n",
    "        plt.imshow(image)\n",
    "        plt.axis('off')\n",
    "        plt.title(\"Predicted Label: \" + labels[predicted_labels[i]], fontsize=7)"
   ]
  },
  {
   "cell_type": "markdown",
   "metadata": {},
   "source": [
    "### Analyze Performance"
   ]
  },
  {
   "cell_type": "code",
   "execution_count": 12,
   "metadata": {
    "collapsed": false
   },
   "outputs": [
    {
     "name": "stdout",
     "output_type": "stream",
     "text": [
      "100.00 %\n"
     ]
    }
   ],
   "source": [
    "### Calculate the accuracy for these 5 new images. \n",
    "### For example, if the model predicted 1 out of 5 signs correctly, it's 20% accurate on these new images.\n",
    "print(\"%.2f %%\" % ([test_labels[i] == predicted_labels[i] for i in range(5)].count(True)/ 5 * 100))"
   ]
  },
  {
   "cell_type": "markdown",
   "metadata": {},
   "source": [
    "### Output Top 5 Softmax Probabilities For Each Image Found on the Web"
   ]
  },
  {
   "cell_type": "markdown",
   "metadata": {},
   "source": [
    "For each of the new images, print out the model's softmax probabilities to show the **certainty** of the model's predictions (limit the output to the top 5 probabilities for each image). [`tf.nn.top_k`](https://www.tensorflow.org/versions/r0.12/api_docs/python/nn.html#top_k) could prove helpful here. \n",
    "\n",
    "The example below demonstrates how tf.nn.top_k can be used to find the top k predictions for each image.\n",
    "\n",
    "`tf.nn.top_k` will return the values and indices (class ids) of the top k predictions. So if k=3, for each sign, it'll return the 3 largest probabilities (out of a possible 43) and the correspoding class ids.\n",
    "\n",
    "Take this numpy array as an example. The values in the array represent predictions. The array contains softmax probabilities for five candidate images with six possible classes. `tk.nn.top_k` is used to choose the three classes with the highest probability:\n",
    "\n",
    "```\n",
    "# (5, 6) array\n",
    "a = np.array([[ 0.24879643,  0.07032244,  0.12641572,  0.34763842,  0.07893497,\n",
    "         0.12789202],\n",
    "       [ 0.28086119,  0.27569815,  0.08594638,  0.0178669 ,  0.18063401,\n",
    "         0.15899337],\n",
    "       [ 0.26076848,  0.23664738,  0.08020603,  0.07001922,  0.1134371 ,\n",
    "         0.23892179],\n",
    "       [ 0.11943333,  0.29198961,  0.02605103,  0.26234032,  0.1351348 ,\n",
    "         0.16505091],\n",
    "       [ 0.09561176,  0.34396535,  0.0643941 ,  0.16240774,  0.24206137,\n",
    "         0.09155967]])\n",
    "```\n",
    "\n",
    "Running it through `sess.run(tf.nn.top_k(tf.constant(a), k=3))` produces:\n",
    "\n",
    "```\n",
    "TopKV2(values=array([[ 0.34763842,  0.24879643,  0.12789202],\n",
    "       [ 0.28086119,  0.27569815,  0.18063401],\n",
    "       [ 0.26076848,  0.23892179,  0.23664738],\n",
    "       [ 0.29198961,  0.26234032,  0.16505091],\n",
    "       [ 0.34396535,  0.24206137,  0.16240774]]), indices=array([[3, 0, 5],\n",
    "       [0, 1, 4],\n",
    "       [0, 5, 1],\n",
    "       [1, 3, 5],\n",
    "       [1, 4, 3]], dtype=int32))\n",
    "```\n",
    "\n",
    "Looking just at the first row we get `[ 0.34763842,  0.24879643,  0.12789202]`, you can confirm these are the 3 largest probabilities in `a`. You'll also notice `[3, 0, 5]` are the corresponding indices."
   ]
  },
  {
   "cell_type": "code",
   "execution_count": 13,
   "metadata": {
    "collapsed": false
   },
   "outputs": [
    {
     "name": "stdout",
     "output_type": "stream",
     "text": [
      "['Beware of ice/snow' 'Right-of-way at the next intersection'\n",
      " 'Children crossing' 'Pedestrians' 'Road narrows on the right']\n",
      "[  4.66664380e-04   2.60001142e-03   3.84994829e-03   1.49733666e-02\n",
      "   9.78109002e-01]\n",
      "\n",
      "['Go straight or left' 'Speed limit (30km/h)' 'Yield' 'Stop'\n",
      " 'Turn right ahead']\n",
      "[  3.92058355e-05   5.90302188e-05   2.88022711e-04   9.98765051e-01\n",
      "   8.21884896e-04]\n",
      "\n",
      "['Ahead only' 'No passing' 'Speed limit (50km/h)' 'Yield' 'No vechiles']\n",
      "[  6.12489330e-08   6.20172216e-08   3.14092858e-07   9.99999225e-01\n",
      "   3.23354442e-07]\n",
      "\n",
      "['General caution' 'Speed limit (70km/h)' 'Speed limit (30km/h)'\n",
      " 'Speed limit (50km/h)' 'Speed limit (20km/h)']\n",
      "[  1.19171898e-16   7.28128183e-11   1.00000000e+00   1.06983524e-08\n",
      "   4.47275273e-14]\n",
      "\n",
      "['Speed limit (100km/h)'\n",
      " 'End of no passing by vechiles over 3.5 metric tons'\n",
      " 'Roundabout mandatory' 'Vechiles over 3.5 metric tons prohibited'\n",
      " 'Priority road']\n",
      "[  1.04313900e-08   1.35812774e-08   9.99997675e-01   2.33281867e-06\n",
      "   3.48276643e-08]\n",
      "\n"
     ]
    },
    {
     "data": {
      "image/png": "[encoded data removed]",
      "text/plain": [
       "<matplotlib.figure.Figure at 0x7f43187699e8>"
      ]
     },
     "metadata": {},
     "output_type": "display_data"
    }
   ],
   "source": [
    "### Print out the top five softmax probabilities for the predictions on the German traffic sign images found on the web. \n",
    "### Feel free to use as many code cells as needed.\n",
    "#print (predicted_logits)\n",
    "def softmax(x):\n",
    "    return np.exp(x) / np.sum(np.exp(x), axis=1, keepdims=True)\n",
    "\n",
    "softmax_logits = softmax(predicted_logits)\n",
    "for i in range(5):\n",
    "    ind = np.argpartition(softmax_logits[i], -5)[-5:]\n",
    "    print(np.array(labels)[ind])\n",
    "    print(softmax_logits[i][ind])\n",
    "    print()\n",
    "    \n",
    "fig = plt.figure()    \n",
    "width = 0.5\n",
    "x_vals = range(43)\n",
    "for i in range(5):\n",
    "    ax = fig.add_subplot(5,1,i+1)\n",
    "    ax.bar(x_vals, softmax_logits[i], width)\n",
    "\n",
    "plt.show()"
   ]
  },
  {
   "cell_type": "markdown",
   "metadata": {},
   "source": [
    "---\n",
    "\n",
    "## Step 4: Visualize the Neural Network's State with Test Images\n",
    "\n",
    " This Section is not required to complete but acts as an additional excersise for understaning the output of a neural network's weights. While neural networks can be a great learning device they are often referred to as a black box. We can understand what the weights of a neural network look like better by plotting their feature maps. After successfully training your neural network you can see what it's feature maps look like by plotting the output of the network's weight layers in response to a test stimuli image. From these plotted feature maps, it's possible to see what characteristics of an image the network finds interesting. For a sign, maybe the inner network feature maps react with high activation to the sign's boundary outline or to the contrast in the sign's painted symbol.\n",
    "\n",
    " Provided for you below is the function code that allows you to get the visualization output of any tensorflow weight layer you want. The inputs to the function should be a stimuli image, one used during training or a new one you provided, and then the tensorflow variable name that represents the layer's state during the training process, for instance if you wanted to see what the [LeNet lab's](https://classroom.udacity.com/nanodegrees/nd013/parts/fbf77062-5703-404e-b60c-95b78b2f3f9e/modules/6df7ae49-c61c-4bb2-a23e-6527e69209ec/lessons/601ae704-1035-4287-8b11-e2c2716217ad/concepts/d4aca031-508f-4e0b-b493-e7b706120f81) feature maps looked like for it's second convolutional layer you could enter conv2 as the tf_activation variable.\n",
    "\n",
    "For an example of what feature map outputs look like, check out NVIDIA's results in their paper [End-to-End Deep Learning for Self-Driving Cars](https://devblogs.nvidia.com/parallelforall/deep-learning-self-driving-cars/) in the section Visualization of internal CNN State. NVIDIA was able to show that their network's inner weights had high activations to road boundary lines by comparing feature maps from an image with a clear path to one without. Try experimenting with a similar test to show that your trained network's weights are looking for interesting features, whether it's looking at differences in feature maps from images with or without a sign, or even what feature maps look like in a trained network vs a completely untrained one on the same sign image.\n",
    "\n",
    "<figure>\n",
    " <img src=\"visualize_cnn.png\" width=\"380\" alt=\"Combined Image\" />\n",
    " <figcaption>\n",
    " <p></p> \n",
    " <p style=\"text-align: center;\"> Your output should look something like this (above)</p> \n",
    " </figcaption>\n",
    "</figure>\n",
    " <p></p> \n"
   ]
  },
  {
   "cell_type": "code",
   "execution_count": 14,
   "metadata": {
    "collapsed": true
   },
   "outputs": [],
   "source": [
    "### Visualize your network's feature maps here.\n",
    "### Feel free to use as many code cells as needed.\n",
    "\n",
    "# image_input: the test image being fed into the network to produce the feature maps\n",
    "# tf_activation: should be a tf variable name used during your training procedure that represents the calculated state of a specific weight layer\n",
    "# activation_min/max: can be used to view the activation contrast in more detail, by default matplot sets min and max to the actual min and max values of the output\n",
    "# plt_num: used to plot out multiple different weight feature map sets on the same block, just extend the plt number for each new feature map entry\n",
    "\n",
    "def outputFeatureMap(image_input, tf_activation, activation_min=-1, activation_max=-1 ,plt_num=1):\n",
    "    # Here make sure to preprocess your image_input in a way your network expects\n",
    "    # with size, normalization, ect if needed\n",
    "    # image_input =\n",
    "    # Note: x should be the same name as your network's tensorflow data placeholder variable\n",
    "    # If you get an error tf_activation is not defined it maybe having trouble accessing the variable from inside a function\n",
    "    activation = tf_activation.eval(session=sess,feed_dict={x : image_input})\n",
    "    featuremaps = activation.shape[3]\n",
    "    plt.figure(plt_num, figsize=(15,15))\n",
    "    for featuremap in range(featuremaps):\n",
    "        plt.subplot(6,8, featuremap+1) # sets the number of feature maps to show on each row and column\n",
    "        plt.title('FeatureMap ' + str(featuremap)) # displays the feature map number\n",
    "        if activation_min != -1 & activation_max != -1:\n",
    "            plt.imshow(activation[0,:,:, featuremap], interpolation=\"nearest\", vmin =activation_min, vmax=activation_max, cmap=\"gray\")\n",
    "        elif activation_max != -1:\n",
    "            plt.imshow(activation[0,:,:, featuremap], interpolation=\"nearest\", vmax=activation_max, cmap=\"gray\")\n",
    "        elif activation_min !=-1:\n",
    "            plt.imshow(activation[0,:,:, featuremap], interpolation=\"nearest\", vmin=activation_min, cmap=\"gray\")\n",
    "        else:\n",
    "            plt.imshow(activation[0,:,:, featuremap], interpolation=\"nearest\", cmap=\"gray\")"
   ]
  },
  {
   "cell_type": "markdown",
   "metadata": {},
   "source": [
    "### Question 9\n",
    "\n",
    "Discuss how you used the visual output of your trained network's feature maps to show that it had learned to look for interesting characteristics in traffic sign images\n"
   ]
  },
  {
   "cell_type": "markdown",
   "metadata": {},
   "source": [
    "**Answer:**"
   ]
  },
  {
   "cell_type": "markdown",
   "metadata": {},
   "source": [
    "> **Note**: Once you have completed all of the code implementations and successfully answered each question above, you may finalize your work by exporting the iPython Notebook as an HTML document. You can do this by using the menu above and navigating to  \\n\",\n",
    "    \"**File -> Download as -> HTML (.html)**. Include the finished document along with this notebook as your submission."
   ]
  },
  {
   "cell_type": "markdown",
   "metadata": {},
   "source": [
    "### Project Writeup\n",
    "\n",
    "Once you have completed the code implementation, document your results in a project writeup using this [template](https://github.com/udacity/CarND-Traffic-Sign-Classifier-Project/blob/master/writeup_template.md) as a guide. The writeup can be in a markdown or pdf file. "
   ]
  }
 ],
 "metadata": {
  "anaconda-cloud": {},
  "kernelspec": {
   "display_name": "Python 3",
   "language": "python",
   "name": "python3"
  },
  "language_info": {
   "codemirror_mode": {
    "name": "ipython",
    "version": 3
   },
   "file_extension": ".py",
   "mimetype": "text/x-python",
   "name": "python",
   "nbconvert_exporter": "python",
   "pygments_lexer": "ipython3",
   "version": "3.5.2"
  },
  "widgets": {
   "state": {},
   "version": "1.1.2"
  }
 },
 "nbformat": 4,
 "nbformat_minor": 1
}
